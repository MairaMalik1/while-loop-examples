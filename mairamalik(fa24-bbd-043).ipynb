{
 "cells": [
  {
   "cell_type": "code",
   "execution_count": 1,
   "id": "292dad9e-d1ae-4cf7-8771-5b3d72e51da6",
   "metadata": {},
   "outputs": [
    {
     "name": "stdout",
     "output_type": "stream",
     "text": [
      "1\n",
      "2\n",
      "3\n",
      "4\n",
      "5\n",
      "6\n",
      "7\n",
      "8\n",
      "9\n",
      "10\n"
     ]
    }
   ],
   "source": [
    "#QUESTION NO 1    \n",
    "i=1\n",
    "while i<=10:\n",
    "    print(i)\n",
    "    i=i+1"
   ]
  },
  {
   "cell_type": "code",
   "execution_count": 3,
   "id": "ca57714f-22cb-4a4f-8b76-5b819abcc1a2",
   "metadata": {},
   "outputs": [
    {
     "name": "stdout",
     "output_type": "stream",
     "text": [
      "2\n",
      "4\n",
      "6\n",
      "8\n",
      "10\n",
      "12\n",
      "14\n",
      "16\n",
      "18\n",
      "20\n"
     ]
    }
   ],
   "source": [
    "#Question NO 2  \n",
    "a=1\n",
    "while a<=20:\n",
    "    if a % 2==0:\n",
    "        print(a)\n",
    "    a=a+1"
   ]
  },
  {
   "cell_type": "code",
   "execution_count": 27,
   "id": "2c1a64de-9c02-42a2-8f89-848451a0013f",
   "metadata": {},
   "outputs": [
    {
     "name": "stdout",
     "output_type": "stream",
     "text": [
      "\n",
      "The sum of the first 10 natural numbers is: 55\n"
     ]
    }
   ],
   "source": [
    "#QUESTION NO 3    \n",
    "num = 1        \n",
    "sum = 0      \n",
    "while num <= 10:\n",
    "    sum += num    \n",
    "    num += 1      \n",
    "print(\"\\nThe sum of the first 10 natural numbers is:\", sum)"
   ]
  },
  {
   "cell_type": "code",
   "execution_count": 9,
   "id": "8f1d0879-eeab-476d-bc17-6bc2b9468053",
   "metadata": {},
   "outputs": [
    {
     "name": "stdin",
     "output_type": "stream",
     "text": [
      "Enter a number or enter negative number to exit:  -1\n"
     ]
    },
    {
     "name": "stdout",
     "output_type": "stream",
     "text": [
      "The total sum of the numbers entered  0\n"
     ]
    }
   ],
   "source": [
    "#QUESTION NO 4   \n",
    "sum = 0\n",
    "while True:\n",
    "    num=int(input(\"Enter a number or enter negative number to exit: \"))\n",
    "    if num < 0:\n",
    "        break\n",
    "    sum+=num\n",
    "print(\"The total sum of the numbers entered \",sum)"
   ]
  },
  {
   "cell_type": "code",
   "execution_count": 25,
   "id": "4a84c9d3-f518-452e-baa4-14cce288204c",
   "metadata": {},
   "outputs": [
    {
     "name": "stdout",
     "output_type": "stream",
     "text": [
      "Lets play the guessing game\n"
     ]
    },
    {
     "name": "stdin",
     "output_type": "stream",
     "text": [
      "Guess a number b/w 1 and 100 or enter exit to end game:  3\n"
     ]
    },
    {
     "name": "stdout",
     "output_type": "stream",
     "text": [
      "Too low!\n"
     ]
    },
    {
     "name": "stdin",
     "output_type": "stream",
     "text": [
      "Guess a number b/w 1 and 100 or enter exit to end game:  66\n"
     ]
    },
    {
     "name": "stdout",
     "output_type": "stream",
     "text": [
      "Too high!\n"
     ]
    },
    {
     "name": "stdin",
     "output_type": "stream",
     "text": [
      "Guess a number b/w 1 and 100 or enter exit to end game:  exit\n"
     ]
    },
    {
     "name": "stdout",
     "output_type": "stream",
     "text": [
      "Game end succesfully\n"
     ]
    }
   ],
   "source": [
    "#QUESTION NO 5 \n",
    "print(\"Lets play the guessing game\")\n",
    "num='42'  \n",
    "guess = 0\n",
    "while guess != num:\n",
    "    guess= input(\"Guess a number b/w 1 and 100 or enter exit to end game: \")\n",
    "    if guess.lower()=='exit':\n",
    "        print(\"Game end succesfully\")\n",
    "        break\n",
    "    elif guess < num:\n",
    "        print(\"Too low!\")\n",
    "    elif guess > num:\n",
    "        print(\"Too high!\")\n",
    "    else:\n",
    "        print(\"You guessed it right.\")"
   ]
  },
  {
   "cell_type": "code",
   "execution_count": 23,
   "id": "66ca7a43-2a5a-4765-8cc9-5a206366bbed",
   "metadata": {},
   "outputs": [
    {
     "name": "stdin",
     "output_type": "stream",
     "text": [
      "Enter a positive integer: 22\n"
     ]
    },
    {
     "name": "stdout",
     "output_type": "stream",
     "text": [
      "Factorial: 1124000727777607680000\n"
     ]
    }
   ],
   "source": [
    "#QUESTION NO 6\n",
    "number=int(input('Enter a positive integer:'))\n",
    "factorial=1\n",
    "while number>0:\n",
    "    factorial*=number\n",
    "    number-=1\n",
    "print('Factorial:',factorial)"
   ]
  },
  {
   "cell_type": "code",
   "execution_count": 19,
   "id": "e0481829-f95c-4f28-9a6d-ae2430d5e372",
   "metadata": {},
   "outputs": [
    {
     "name": "stdin",
     "output_type": "stream",
     "text": [
      "Enter a number or('done' to calculate average):  2\n",
      "Enter a number or('done' to calculate average):  4\n",
      "Enter a number or('done' to calculate average):  5\n",
      "Enter a number or('done' to calculate average):  done\n"
     ]
    },
    {
     "name": "stdout",
     "output_type": "stream",
     "text": [
      "Average: 3.6666666666666665\n"
     ]
    }
   ],
   "source": [
    "#QUESTION NO 7  \n",
    "total=0\n",
    "count=0\n",
    "while True:\n",
    "    num = input(\"Enter a number or('done' to calculate average): \")\n",
    "    if num.lower()== \"done\":\n",
    "        break\n",
    "    total+=float(num)\n",
    "    count += 1\n",
    "print(\"Average:\", total / count )"
   ]
  },
  {
   "cell_type": "code",
   "execution_count": 21,
   "id": "819cb7cd-2c82-42b0-b36d-18b30cd97c0b",
   "metadata": {},
   "outputs": [
    {
     "name": "stdin",
     "output_type": "stream",
     "text": [
      "Enter a number: 23\n"
     ]
    },
    {
     "name": "stdout",
     "output_type": "stream",
     "text": [
      "0 1 1 2 3 5 8 13 21 "
     ]
    }
   ],
   "source": [
    "#QUESTION NO 8  \n",
    "n = int(input(\"Enter a number:\"))\n",
    "a=0\n",
    "b=1\n",
    "while a <= n:\n",
    "    print(a, end=\" \")\n",
    "    a, b = b, a + b"
   ]
  },
  {
   "cell_type": "code",
   "execution_count": null,
   "id": "1d64d13f-d734-40b3-98c3-4d7c84d34735",
   "metadata": {},
   "outputs": [],
   "source": []
  }
 ],
 "metadata": {
  "kernelspec": {
   "display_name": "Python 3 (ipykernel)",
   "language": "python",
   "name": "python3"
  },
  "language_info": {
   "codemirror_mode": {
    "name": "ipython",
    "version": 3
   },
   "file_extension": ".py",
   "mimetype": "text/x-python",
   "name": "python",
   "nbconvert_exporter": "python",
   "pygments_lexer": "ipython3",
   "version": "3.12.4"
  }
 },
 "nbformat": 4,
 "nbformat_minor": 5
}
